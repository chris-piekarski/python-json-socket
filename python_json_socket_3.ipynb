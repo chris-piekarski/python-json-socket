{
  "nbformat": 4,
  "nbformat_minor": 0,
  "metadata": {
    "colab": {
      "name": "python-json-socket-3.ipynb",
      "version": "0.3.2",
      "provenance": [],
      "collapsed_sections": []
    },
    "kernelspec": {
      "name": "python3",
      "display_name": "Python 3"
    }
  },
  "cells": [
    {
      "metadata": {
        "id": "1sAgbwV0Gvu5",
        "colab_type": "code",
        "outputId": "abba303e-abed-45e7-852e-8e4d1f78f121",
        "colab": {
          "base_uri": "https://localhost:8080/",
          "height": 85
        }
      },
      "cell_type": "code",
      "source": [
        "!pip install jsocket"
      ],
      "execution_count": 14,
      "outputs": [
        {
          "output_type": "stream",
          "text": [
            "Collecting jsocket\n",
            "  Downloading https://files.pythonhosted.org/packages/17/be/e4947791923ce13d837a95652c9542c4a279bde40674e6d2e75bb87a4510/jsocket-1.7-py3-none-any.whl\n",
            "Installing collected packages: jsocket\n",
            "Successfully installed jsocket-1.7\n"
          ],
          "name": "stdout"
        }
      ]
    },
    {
      "metadata": {
        "id": "pTCLG_X0C0Lk",
        "colab_type": "code",
        "colab": {
          "base_uri": "https://localhost:8080/",
          "height": 119
        },
        "outputId": "32f90dfb-e429-410c-c77c-144c0b9ab883"
      },
      "cell_type": "code",
      "source": [
        "!pip uninstall jsocket"
      ],
      "execution_count": 13,
      "outputs": [
        {
          "output_type": "stream",
          "text": [
            "Uninstalling jsocket-1.6:\n",
            "  Would remove:\n",
            "    /usr/local/lib/python3.6/dist-packages/jsocket-1.6.dist-info/*\n",
            "    /usr/local/lib/python3.6/dist-packages/jsocket/*\n",
            "Proceed (y/n)? y\n",
            "  Successfully uninstalled jsocket-1.6\n"
          ],
          "name": "stdout"
        }
      ]
    },
    {
      "metadata": {
        "id": "AvuThuwd34Ks",
        "colab_type": "code",
        "colab": {
          "base_uri": "https://localhost:8080/",
          "height": 34
        },
        "outputId": "0a50df88-e72e-4623-c42d-9773e4a1ea8b"
      },
      "cell_type": "code",
      "source": [
        "!python2 -m pip install jsocket"
      ],
      "execution_count": 10,
      "outputs": [
        {
          "output_type": "stream",
          "text": [
            "Requirement already satisfied: jsocket in /usr/local/lib/python2.7/dist-packages (1.6.1)\n"
          ],
          "name": "stdout"
        }
      ]
    },
    {
      "metadata": {
        "id": "F0sB90cRDGnB",
        "colab_type": "code",
        "colab": {
          "base_uri": "https://localhost:8080/",
          "height": 1870
        },
        "outputId": "701777f9-e8a5-4799-a6cf-695107978d72"
      },
      "cell_type": "code",
      "source": [
        "import jsocket\n",
        "import logging\n",
        "\n",
        "logger = logging.getLogger(\"jsocket.example_servers\")\n",
        "\n",
        "class MyServer(jsocket.ThreadedServer):\n",
        "\t\"\"\"\tThis is a basic example of a custom ThreadedServer.\t\"\"\"\n",
        "\tdef __init__(self):\n",
        "\t\tsuper(MyServer, self).__init__()\n",
        "\t\tself.timeout = 2.0\n",
        "\t\tlogger.warning(\"MyServer class in customServer is for example purposes only.\")\n",
        "\t\n",
        "\tdef _process_message(self, obj):\n",
        "\t\t\"\"\" virtual method \"\"\"\n",
        "\t\tif obj != '':\n",
        "\t\t\tif obj['message'] == \"new connection\":\n",
        "\t\t\t\tlogger.info(\"new connection.\")\n",
        "\n",
        "class MyFactoryThread(jsocket.ServerFactoryThread):\n",
        "\t\"\"\"\tThis is an example factory thread, which the server factory will\n",
        "\t\tinstantiate for each new connection.\n",
        "\t\"\"\"\n",
        "\tdef __init__(self):\n",
        "\t\tsuper(MyFactoryThread, self).__init__()\n",
        "\t\tself.timeout = 2.0\n",
        "\t\n",
        "\tdef _process_message(self, obj):\n",
        "\t\t\"\"\" virtual method - Implementer must define protocol \"\"\"\n",
        "\t\tif obj != '':\n",
        "\t\t\tif obj['message'] == \"new connection\":\n",
        "\t\t\t\tlogger.info(\"new connection.\")\n",
        "\t\t\telse:\n",
        "\t\t\t\tlogger.info(obj)\n",
        "\t\n",
        "if __name__ == \"__main__\":\n",
        "\timport time\n",
        "\timport jsocket\n",
        "\t\n",
        "\tserver = jsocket.ServerFactory(MyFactoryThread, address='127.0.0.1', port=5490)\n",
        "\tserver.timeout = 2.0\n",
        "\tserver.start()\n",
        "\t\n",
        "\ttime.sleep(1)\n",
        "\tcPids = []\n",
        "\tfor i in range(10):\n",
        "\t\tclient = jsocket.JsonClient(address='127.0.0.1', port=5490)\n",
        "\t\tcPids.append(client)\n",
        "\t\tclient.connect()\n",
        "\t\tclient.send_obj({\"message\": \"new connection\"})\n",
        "\t\tclient.send_obj({\"message\": i })\n",
        "\t\n",
        "\ttime.sleep(2)\n",
        "\t\n",
        "\tfor c in cPids:\n",
        "\t\tc.close()\n",
        "\tserver.stop()\n",
        "\tserver.join()"
      ],
      "execution_count": 15,
      "outputs": [
        {
          "output_type": "stream",
          "text": [
            "[2019-02-13 18:10:20,239][DEBUG][tserver][start] Threaded Server has been started.\n",
            "[2019-02-13 18:10:21,244][INFO][jsocket_base][connect] ...Socket Connected\n",
            "[2019-02-13 18:10:21,246][DEBUG][jsocket_base][accept_connection] connection accepted, conn socket (127.0.0.1,48296,2)\n",
            "[2019-02-13 18:10:21,247][INFO][jsocket_base][connect] ...Socket Connected\n",
            "[2019-02-13 18:10:21,260][INFO][jsocket_base][connect] ...Socket Connected\n",
            "[2019-02-13 18:10:21,254][DEBUG][tserver][start] ServerFactoryThread has been started.\n",
            "[2019-02-13 18:10:21,262][INFO][<ipython-input-15-65d31154befc>][_process_message] new connection.\n",
            "[2019-02-13 18:10:21,270][DEBUG][jsocket_base][accept_connection] connection accepted, conn socket (127.0.0.1,48298,2)\n",
            "[2019-02-13 18:10:21,273][INFO][<ipython-input-15-65d31154befc>][_process_message] {'message': 0}\n",
            "[2019-02-13 18:10:21,276][INFO][<ipython-input-15-65d31154befc>][_process_message] new connection.\n",
            "[2019-02-13 18:10:21,276][DEBUG][tserver][start] ServerFactoryThread has been started.\n",
            "[2019-02-13 18:10:21,280][DEBUG][jsocket_base][accept_connection] connection accepted, conn socket (127.0.0.1,48300,2)\n",
            "[2019-02-13 18:10:21,281][INFO][<ipython-input-15-65d31154befc>][_process_message] {'message': 1}\n",
            "[2019-02-13 18:10:21,283][DEBUG][tserver][start] ServerFactoryThread has been started.\n",
            "[2019-02-13 18:10:21,284][INFO][<ipython-input-15-65d31154befc>][_process_message] new connection.\n",
            "[2019-02-13 18:10:21,285][INFO][<ipython-input-15-65d31154befc>][_process_message] {'message': 2}\n",
            "[2019-02-13 18:10:22,318][INFO][jsocket_base][connect] ...Socket Connected\n",
            "[2019-02-13 18:10:22,319][DEBUG][jsocket_base][accept_connection] connection accepted, conn socket (127.0.0.1,48302,2)\n",
            "[2019-02-13 18:10:22,321][INFO][jsocket_base][connect] ...Socket Connected\n",
            "[2019-02-13 18:10:22,324][DEBUG][tserver][start] ServerFactoryThread has been started.\n",
            "[2019-02-13 18:10:22,329][DEBUG][jsocket_base][accept_connection] connection accepted, conn socket (127.0.0.1,48306,2)\n",
            "[2019-02-13 18:10:22,326][INFO][jsocket_base][connect] ...Socket Connected\n",
            "[2019-02-13 18:10:22,333][INFO][jsocket_base][connect] ...Socket Connected\n",
            "[2019-02-13 18:10:22,324][INFO][<ipython-input-15-65d31154befc>][_process_message] new connection.\n",
            "[2019-02-13 18:10:22,337][INFO][<ipython-input-15-65d31154befc>][_process_message] {'message': 3}\n",
            "[2019-02-13 18:10:22,341][DEBUG][tserver][start] ServerFactoryThread has been started.\n",
            "[2019-02-13 18:10:22,341][DEBUG][jsocket_base][accept_connection] connection accepted, conn socket (127.0.0.1,48308,2)\n",
            "[2019-02-13 18:10:22,345][INFO][<ipython-input-15-65d31154befc>][_process_message] new connection.\n",
            "[2019-02-13 18:10:22,346][DEBUG][tserver][start] ServerFactoryThread has been started.\n",
            "[2019-02-13 18:10:22,348][DEBUG][jsocket_base][accept_connection] connection accepted, conn socket (127.0.0.1,48310,2)\n",
            "[2019-02-13 18:10:22,349][INFO][<ipython-input-15-65d31154befc>][_process_message] {'message': 4}\n",
            "[2019-02-13 18:10:22,347][INFO][<ipython-input-15-65d31154befc>][_process_message] new connection.\n",
            "[2019-02-13 18:10:22,353][INFO][<ipython-input-15-65d31154befc>][_process_message] {'message': 5}\n",
            "[2019-02-13 18:10:22,356][INFO][<ipython-input-15-65d31154befc>][_process_message] new connection.\n",
            "[2019-02-13 18:10:22,357][DEBUG][tserver][start] ServerFactoryThread has been started.\n",
            "[2019-02-13 18:10:22,359][INFO][<ipython-input-15-65d31154befc>][_process_message] {'message': 6}\n",
            "[2019-02-13 18:10:23,280][DEBUG][tserver][run] socket.timeout: timed out\n",
            "[2019-02-13 18:10:23,283][DEBUG][tserver][run] socket.timeout: timed out\n",
            "[2019-02-13 18:10:23,288][DEBUG][tserver][run] socket.timeout: timed out\n",
            "[2019-02-13 18:10:23,342][INFO][jsocket_base][connect] ...Socket Connected\n",
            "[2019-02-13 18:10:23,342][DEBUG][jsocket_base][accept_connection] connection accepted, conn socket (127.0.0.1,48312,2)\n",
            "[2019-02-13 18:10:23,344][INFO][jsocket_base][connect] ...Socket Connected\n",
            "[2019-02-13 18:10:23,351][INFO][jsocket_base][connect] ...Socket Connected\n",
            "[2019-02-13 18:10:23,352][INFO][<ipython-input-15-65d31154befc>][_process_message] new connection.\n",
            "[2019-02-13 18:10:23,352][DEBUG][tserver][start] ServerFactoryThread has been started.\n",
            "[2019-02-13 18:10:23,357][DEBUG][jsocket_base][accept_connection] connection accepted, conn socket (127.0.0.1,48314,2)\n",
            "[2019-02-13 18:10:23,355][INFO][<ipython-input-15-65d31154befc>][_process_message] {'message': 7}\n",
            "[2019-02-13 18:10:23,360][DEBUG][tserver][start] ServerFactoryThread has been started.\n",
            "[2019-02-13 18:10:23,361][DEBUG][jsocket_base][accept_connection] connection accepted, conn socket (127.0.0.1,48316,2)\n",
            "[2019-02-13 18:10:23,362][INFO][<ipython-input-15-65d31154befc>][_process_message] new connection.\n",
            "[2019-02-13 18:10:23,363][INFO][<ipython-input-15-65d31154befc>][_process_message] {'message': 8}\n",
            "[2019-02-13 18:10:23,364][DEBUG][tserver][start] ServerFactoryThread has been started.\n",
            "[2019-02-13 18:10:23,365][INFO][<ipython-input-15-65d31154befc>][_process_message] new connection.\n",
            "[2019-02-13 18:10:23,366][INFO][<ipython-input-15-65d31154befc>][_process_message] {'message': 9}\n",
            "[2019-02-13 18:10:24,341][DEBUG][tserver][run] socket.timeout: timed out\n",
            "[2019-02-13 18:10:24,351][DEBUG][tserver][run] socket.timeout: timed out\n",
            "[2019-02-13 18:10:24,356][DEBUG][tserver][run] socket.timeout: timed out\n",
            "[2019-02-13 18:10:24,364][DEBUG][tserver][run] socket.timeout: timed out\n",
            "[2019-02-13 18:10:25,284][DEBUG][tserver][run] socket.timeout: timed out\n",
            "[2019-02-13 18:10:25,285][DEBUG][tserver][run] socket.timeout: timed out\n",
            "[2019-02-13 18:10:25,292][DEBUG][tserver][run] socket.timeout: timed out\n",
            "[2019-02-13 18:10:25,357][DEBUG][jsocket_base][_close_socket] closing main socket\n",
            "[2019-02-13 18:10:25,359][DEBUG][jsocket_base][_close_socket] closing main socket\n",
            "[2019-02-13 18:10:25,361][INFO][tserver][run] client connection broken, closing socket\n",
            "[2019-02-13 18:10:25,363][DEBUG][jsocket_base][_close_connection] closing the connection socket\n",
            "[2019-02-13 18:10:25,362][DEBUG][jsocket_base][_close_socket] closing main socket\n",
            "[2019-02-13 18:10:25,363][INFO][tserver][run] client connection broken, closing socket\n",
            "[2019-02-13 18:10:25,361][DEBUG][tserver][run] socket.timeout: timed out\n",
            "[2019-02-13 18:10:25,365][DEBUG][tserver][run] socket.timeout: timed out\n",
            "[2019-02-13 18:10:25,365][DEBUG][jsocket_base][_close_socket] closing main socket\n",
            "[2019-02-13 18:10:25,367][DEBUG][tserver][run] socket.timeout: timed out\n",
            "[2019-02-13 18:10:25,368][INFO][tserver][run] client connection broken, closing socket\n",
            "[2019-02-13 18:10:25,376][DEBUG][jsocket_base][_close_connection] closing the connection socket\n",
            "[2019-02-13 18:10:25,376][DEBUG][jsocket_base][_close_socket] closing main socket\n",
            "[2019-02-13 18:10:25,370][DEBUG][tserver][run] socket.timeout: timed out\n",
            "[2019-02-13 18:10:25,368][DEBUG][jsocket_base][_close_socket] closing main socket\n",
            "[2019-02-13 18:10:25,370][DEBUG][jsocket_base][_close_connection] closing the connection socket\n",
            "[2019-02-13 18:10:25,380][INFO][tserver][run] client connection broken, closing socket\n",
            "[2019-02-13 18:10:25,380][DEBUG][jsocket_base][_close_socket] closing main socket\n",
            "[2019-02-13 18:10:25,381][DEBUG][jsocket_base][_close_socket] closing main socket\n",
            "[2019-02-13 18:10:25,382][DEBUG][jsocket_base][_close_connection] closing the connection socket\n",
            "[2019-02-13 18:10:25,384][INFO][tserver][run] client connection broken, closing socket\n",
            "[2019-02-13 18:10:25,387][DEBUG][jsocket_base][_close_connection] closing the connection socket\n",
            "[2019-02-13 18:10:25,388][DEBUG][jsocket_base][_close_socket] closing main socket\n",
            "[2019-02-13 18:10:25,384][DEBUG][jsocket_base][_close_socket] closing main socket\n",
            "[2019-02-13 18:10:25,390][DEBUG][jsocket_base][_close_socket] closing main socket\n",
            "[2019-02-13 18:10:25,391][DEBUG][jsocket_base][_close_socket] closing main socket\n",
            "[2019-02-13 18:10:25,392][DEBUG][jsocket_base][_close_socket] closing main socket\n",
            "[2019-02-13 18:10:25,393][DEBUG][jsocket_base][_close_socket] closing main socket\n",
            "[2019-02-13 18:10:25,391][INFO][tserver][run] client connection broken, closing socket\n",
            "[2019-02-13 18:10:25,395][DEBUG][jsocket_base][_close_connection] closing the connection socket\n",
            "[2019-02-13 18:10:25,396][DEBUG][jsocket_base][_close_socket] closing main socket\n",
            "[2019-02-13 18:10:25,386][DEBUG][jsocket_base][_close_socket] closing main socket\n",
            "[2019-02-13 18:10:25,393][INFO][tserver][run] client connection broken, closing socket\n",
            "[2019-02-13 18:10:25,394][INFO][tserver][run] client connection broken, closing socket\n",
            "[2019-02-13 18:10:25,400][DEBUG][jsocket_base][_close_connection] closing the connection socket\n",
            "[2019-02-13 18:10:25,401][DEBUG][jsocket_base][_close_socket] closing main socket\n",
            "[2019-02-13 18:10:25,392][INFO][tserver][run] client connection broken, closing socket\n",
            "[2019-02-13 18:10:25,403][DEBUG][jsocket_base][_close_connection] closing the connection socket\n",
            "[2019-02-13 18:10:25,404][DEBUG][jsocket_base][_close_socket] closing main socket\n",
            "[2019-02-13 18:10:25,390][INFO][tserver][run] client connection broken, closing socket\n",
            "[2019-02-13 18:10:25,406][DEBUG][jsocket_base][_close_connection] closing the connection socket\n",
            "[2019-02-13 18:10:25,407][DEBUG][jsocket_base][_close_socket] closing main socket\n",
            "[2019-02-13 18:10:25,399][DEBUG][jsocket_base][_close_connection] closing the connection socket\n",
            "[2019-02-13 18:10:25,409][DEBUG][jsocket_base][_close_socket] closing main socket\n",
            "[2019-02-13 18:10:25,394][DEBUG][tserver][stop] Threaded Server has been stopped.\n",
            "[2019-02-13 18:10:27,377][DEBUG][tserver][run] socket.timeout: timed out\n",
            "[2019-02-13 18:10:27,378][DEBUG][jsocket_base][_close_socket] closing main socket\n",
            "[2019-02-13 18:10:27,380][DEBUG][jsocket_base][_close_connection] closing the connection socket\n"
          ],
          "name": "stderr"
        }
      ]
    }
  ]
}